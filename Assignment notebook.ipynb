{
 "cells": [
  {
   "cell_type": "markdown",
   "id": "7a913a9d-34a3-4c50-a425-16b37f0d8fa9",
   "metadata": {},
   "source": [
    "# My Jupyter Notebook on IBM Watson Studio"
   ]
  },
  {
   "cell_type": "markdown",
   "id": "b811f87e-fac3-4dd6-9ffb-686deff87218",
   "metadata": {},
   "source": [
    "**Varadi Hemaraju**\n",
    "\n",
    "Subject Matter Expert (SME)"
   ]
  },
  {
   "cell_type": "markdown",
   "id": "b9c2aeb4-ce9a-4d93-beb5-7573ed29e42d",
   "metadata": {},
   "source": [
    "*I'm interested in data science out of the curiosity to learn how to uncover the facts hidden in the data.*"
   ]
  },
  {
   "cell_type": "markdown",
   "id": "f02dcd90-0071-4817-8846-055415a64403",
   "metadata": {},
   "source": [
    "### In the next cell I will add the numbers 18 and 7."
   ]
  },
  {
   "cell_type": "code",
   "execution_count": 1,
   "id": "32030487-5e4c-4f75-8c1c-4ce04ac02108",
   "metadata": {},
   "outputs": [
    {
     "data": {
      "text/plain": [
       "25"
      ]
     },
     "execution_count": 1,
     "metadata": {},
     "output_type": "execute_result"
    }
   ],
   "source": [
    "18+7"
   ]
  },
  {
   "cell_type": "markdown",
   "id": "e433dd8d-1105-41f9-b612-f96203a5e914",
   "metadata": {},
   "source": [
    "Here is the horizontal rule\n",
    "***\n",
    "\n",
    "- The bulleted list\n",
    "\n",
    "1. The numbered list\n",
    "\n",
    "The table\n",
    "\n",
    "|s.no|Name| Score|\n",
    "|----|----|----|\n",
    "|1|Karthik|95|\n",
    "|2|Tippu|93|\n",
    "|3|Sai|92|\n",
    "|4|Harish|92|\n",
    "\n",
    "[IBM Data Science Professional Certificate](https://www.coursera.org/professional-certificates/ibm-data-science)\n",
    "\n",
    "Code or Syntax Highlighting\n",
    "\n",
    "` We can highlight the code`\n",
    "\n",
    "```python \n",
    "a=\" load parameter\"\n",
    "print a\n",
    "```\n",
    "\n",
    "> It is a blocked quote\n",
    "\n",
    "~~we can make a strike through~~\n",
    " \n",
    "Here the Image\n",
    "\n",
    "![alt text](data:image/jpeg;base64,/9j/4AAQSkZJRgABAQAAAQABAAD/2wCEAAkGBwgHBgkIBwgKCgkLDRYPDQwMDRsUFRAWIB0iIiAdHx8kKDQsJCYxJx8fLT0tMTU3Ojo6Iys/RD84QzQ5OjcBCgoKDQwNGg8PGjclHyU3Nzc3Nzc3Nzc3Nzc3Nzc3Nzc3Nzc3Nzc3Nzc3Nzc3Nzc3Nzc3Nzc3Nzc3Nzc3Nzc3N//AABEIAHEAUQMBIgACEQEDEQH/xAAbAAABBQEBAAAAAAAAAAAAAAAAAwQFBgcCAf/EADsQAAIBAwMCAwUFBgUFAAAAAAECAwAEEQUSIQYxE0FRFCJhcZEjMoGhwQdCUmKx8BUzk9HhFiRDRFT/xAAaAQACAwEBAAAAAAAAAAAAAAAAAwECBQQG/8QAJhEAAgICAgECBwEAAAAAAAAAAAECAxESITEEMlEFExQiQVKhFf/aAAwDAQACEQMRAD8A2UmojqDUn0wWksjNDYtKVu7pVDeAu07Sc9lLYBYggDvjuJamGpWpmS58W+aG3nhELqwXC/e5UngMd2OcjgcUyXQoRu9UGmafeS3D+1NYwNczsuFxH7zL8C21fyzxkV4+uLGdQje0nE9nbJc+EMEzK+7aF/myhXHrj1FNH6Ys7q2vYoryb2K98M+EhVkGxFQYOMkYQcZxnJ79pdrCJ9SXUHLGZYhGBn3eDnOPXk/Ko+4kQj1iGW8t7eKNnE7yoHUjgx53kj+EMNuf4sDzBpHqa5ubHSp7u1uPDlAWKFCgYGV3CJuz3GWXgY+dLaTpKaUskcEzNG0juFKKD7zFsFgMnBJx8O+aNZtIb0WsVxdrAEuI51Q7ftGRgyjnyyAePhRzggQvdUbTNQisXS5vprqKSWBI1QN9nsBX90clxgnAHOe1KNrkC3FtF4bMJppIWdWBEbIjM5P8qlSpbyYgU6NrF/i4vTKfG9mMKR5HC7gWI8+Ttz8hUbp2kaebXULW2ufFtbppTKqBd32xZmG8DJHvkj5+dHJI9sdUjvbpoY4pAPAScOf4XJ2gjup4zg+VSFM9MsjYWqW/jeIEUAHw1TOPPCgcnz/SnlWQBXle0VIHlQXUzMoW8s7mAXmkqbs285wkkbK64Y/u5AbDDsR2IJFTtctDG7BnjRmXsxUEj5GoksogqOp6+sel6ythm0uLaEeBAMLJ7RKnibmB8gZEz5Z3ZzwKkJm1JdUvtMivJC1zYo9rNsBNvJlld+2CB7jAHz486sIgjcsWjUlhhiVHvD4+tUvXurLmxkuESOOBYO5J5I8vrnNc9tsavUwbS7JTR7671WeC5WYRQpPcJJEXUlwjMirtHIII3EnGDxjB47v2S46u0u3bYVtbae6bJ5VjtjT6hpKqMfVEnjNNbXUZuG94+QxgZ3DHb59qd6Z1i0qMLq3trmVH2PJ4fO7sR8f7+VIXm145K7ofa5fS3Q132W7xC9na2lq0eMrNcMwyDjPZ4TjNP5Li4a+utLsZRbCzNuqyOyjg4Ykg8sNvuAYxkHn0Y6j1HYzx23i6ezOs0c4SORcsyNlc8EkA4P4CrHpF5b6tbreLAI5lJUq4G9OfX0PenV312PEWWTT6Hx715XteV1AFFFFAHm6jdSO+jfVtSuxBddPfRWMNxaEpBES00iZ3L9PLGefKsluLk6i7M6KY43KrAqgq/Hu/vYx24Bre45PI9j5VmWu9J30F1dzQWZisMvIosyp2rzt4OCCMDjtWX5lDUt1yQ1nkokNqbmz9pe7hSZw6JBHD7mM8L2GGB/oPQ1PWCqn3o4ofC43KxJl90DtnB75/CkLGwlW7F5pVjPfTIwkh8EM3hY822/vHv/SkNOfQhpl5fa9rt3azQXBjgijUPJJgEkAEZ7nHIAHnXJ8qVy4BQclwLXGoXGnxMzXSXARh4wyQSM+Y9eQMfKpnpq8RNa05rV2L3Nwi5kPAGcH5/h8apmjnxLuW4KM1teSkO1ym5h5qOOOTjJxjtVl6a/wvTNZ0+93Tt7JK7M2SxIORjaPTPkPL51ChCE0myuFFm1yHDcVzupMTRzwxzwOHilQOjDzBGQa531vxWUMb5Ft1FI76KnBGwjuo3UkDk13lFH2kir8zTWsCsnQfFKLOw86RWa0csFu4CU+8BIMj510yZQOhDKezKcg1TMW8F8SSyLxzgHgAZ74Hes/vtK06L9s9pcX9nC0OpWDNAJEDK10h5bHkwRRz8fjV4jRie1U39oie0dXdD2UMrR3XtzSko20rGNpbn4hSPwNKsil0Nqb/ACSPWXRUWsxJJozW1hexIyqDD9nID2DY7Y5wR6+dZPdaT1H01P4OqWsoSXG5ogWRyeAA69ySe3f4VvsxbxDtrpWlxjBpdniwkhbaZG9N2txp/T1pbXcjNKEztbvEDyE55OO1Pd1eSMSTk0lurqrrUY4RSUhbdRSO6ir6ldjmNuCfQVneq65JPqrRSOY1EhG0gjco5IB+PAPwJq/RtlWA7kVhPV13NpvVpaWORdkofBJwR2P6fSotbUZJd4LVJSab9zVtHeJN8UjRJJyWiiAXB+X0rm01SfQ+q0gvC0ei3kLbppP8uKQDIJPZcgY+OfhUNq9q+oabDrulofb4FV1wceIn8J9f0o6Z6li19ntbpVKOCsqON2PUEVhVylF7I9DZWpx1GnXfX17dXLwdL3z21hCvvTxoVedsc7SRkAfDHY1S+ktfOkdc2WtdRTXd8kW+NpZpfEkTKlQQWPOMnjPYnFJ60kdhrl/bWEpuLWKTCOnIxgHGfh2/Coyd8uUkkbyG4Ecfrmu5Sb5MprXg2rqH9pmmJDCOnZkuWlGXnZCBFz22kD3vn2+NMZ+odVnsBcNeToFG5tu33h8sf0xVV6a6Y03SdNi1fWgtxLcoskcZbCqvcEjzbn8PzpvrGvG7vorLS1ADHEhHIRaVK2Tl9r6OqNEYwzJdmkdNdQRzEW075kLFd/OCe4wT6gj18xzirG5we9ZD+y2wvtU1d7qWNjY28hzIeBkYAA9fM/StZlYbuO1atTcksmRalFvB3u+NFI7qKdqK2E1k2nNRnU/Sel9W2hjulEN2o+yuFHKn4+op7urpJSjAirTr2RSFjiyh6Dql301qi9M6+6CSKNVVx911/dKnzUj6HIpDqD9nyT61DqGj3Nxb2103/eezk70GM5XnnPbHlnNXbqTpvRurUtzqnjRXNuCIbm3fa6A845BBGR5j5YzVT6i6f6v0KET6LenU7KNfe2LiZQPNk53fNfoKxbfGnXLMTcp8quyKjMifCTwo9LtOk7wWcEu1rxLNvHcD/wAm4Dk/XP5VFXkHTUszw6Xf3ljLGwU+2KH5zzkcEH+8VHXXWWtyuAuqujIclYz517adZ3drdNdLFBJcTcTzzRjc/GME44GKTrNcnS5Uy7Qte6Rrb2y20Wr2U1jCPsX3nIHpjH9+tOOldIiku7TSkn3XV7MEllVskLn3iPkufpXcvQnVOr3KXGnabLbWd024tcMsKxE/e9wndt9OK07pnorROkrg3dpLc3d8Yynj3Dg7Ae+1QABn8T+ddFdM58HLdfCGcFhaO10+1jsdOgjt7aIYSKMYAFNi2a4klLsTXO6tmFaisGHOezyK7qKS3UVbUrsVyLq3T3/zEnj+agj8jTqPqLSZO12FP8yMP0rP6KyF8QtXeCppMesae33b+3/1AKe22sQLjZdwn5Sj/espoq/+g33FEptdGp6jB09rUgm1fT9PvJVG3xZUVmx6Z70yk6f6KKYOh6WoHmFAP1BrOMD0FGB6Ur6qH6f0b8+fua1ca3b4C+1QIoGAPEUYFR8utaeOXv7f8JAazaimLz3H0xQtycuy/wAnUmlR/wDtbj/LGx/Smk3V1kvEUNxJ8wFH9apdFVl8QufWEVLZ/wBZL/8ACf8AV/4oqp0Uv6273AKKKK5QCiiigAooooAKKKKACiiigAooooA//9k=)\n",
    "\n",
    "\n"
   ]
  },
  {
   "cell_type": "code",
   "execution_count": null,
   "id": "741ccc30-baf9-479a-8d3d-0fcdb18b753d",
   "metadata": {},
   "outputs": [],
   "source": []
  }
 ],
 "metadata": {
  "kernelspec": {
   "display_name": "Python",
   "language": "python",
   "name": "conda-env-python-py"
  },
  "language_info": {
   "codemirror_mode": {
    "name": "ipython",
    "version": 3
   },
   "file_extension": ".py",
   "mimetype": "text/x-python",
   "name": "python",
   "nbconvert_exporter": "python",
   "pygments_lexer": "ipython3",
   "version": "3.7.12"
  }
 },
 "nbformat": 4,
 "nbformat_minor": 5
}
